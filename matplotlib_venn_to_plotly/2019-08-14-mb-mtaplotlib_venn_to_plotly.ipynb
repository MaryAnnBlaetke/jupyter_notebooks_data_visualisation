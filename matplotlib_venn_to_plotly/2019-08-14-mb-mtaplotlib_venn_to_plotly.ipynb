{
 "cells": [
  {
   "cell_type": "markdown",
   "metadata": {},
   "source": [
    "# Matplotlib_venn to Plotly"
   ]
  },
  {
   "cell_type": "markdown",
   "metadata": {},
   "source": [
    "This notebook illustrates how to transform a venn diagramm with 2 or 3 sets using ```matplotlib_venn``` into a nice plotly figure."
   ]
  },
  {
   "cell_type": "code",
   "execution_count": null,
   "metadata": {},
   "outputs": [],
   "source": [
    "from matplotlib_venn import venn2, venn3\n",
    "import matplotlib.pyplot as plt\n",
    "from plotly.offline import iplot\n",
    "import plotly.graph_objs as go\n",
    "import plotly.io as pio\n",
    "pio.renderers.default = 'iframe'"
   ]
  },
  {
   "cell_type": "code",
   "execution_count": 50,
   "metadata": {},
   "outputs": [],
   "source": [
    "def venn_to_plotly(L_sets,L_labels=None,title=None):\n",
    "    \n",
    "    #get number of sets\n",
    "    n_sets = len(L_sets)\n",
    "    \n",
    "    #choose and create matplotlib venn diagramm\n",
    "    if n_sets == 2:\n",
    "        if L_labels and len(L_labels) == n_sets:\n",
    "            v = venn2(L_sets,L_labels)\n",
    "        else:\n",
    "            v = venn2(L_sets)\n",
    "    elif n_sets == 3:\n",
    "        if L_labels and len(L_labels) == n_sets:\n",
    "            v = venn3(L_sets,L_labels)\n",
    "        else:\n",
    "            v = venn3(L_sets)\n",
    "    #supress output of venn diagramm\n",
    "    plt.close()\n",
    "    \n",
    "    #Create empty lists to hold shapes and annotations\n",
    "    L_shapes = []\n",
    "    L_annotation = []\n",
    "    \n",
    "    #Define color list for sets\n",
    "    #check for other colors: https://css-tricks.com/snippets/css/named-colors-and-hex-equivalents/\n",
    "    L_color = ['FireBrick','DodgerBlue','DimGrey'] \n",
    "    L_xanchor = ['right','left','center']\n",
    "    \n",
    "    #Create empty list to make hold of min and max values of set shapes\n",
    "    L_x_max = []\n",
    "    L_y_max = []\n",
    "    L_x_min = []\n",
    "    L_y_min = []\n",
    "    \n",
    "    for i in range(0,n_sets):\n",
    "        \n",
    "        #create circle shape for current set\n",
    "        \n",
    "        shape = go.layout.Shape(\n",
    "                type=\"circle\",\n",
    "                xref=\"x\",\n",
    "                yref=\"y\",\n",
    "                x0= v.centers[i][0] - v.radii[i],\n",
    "                y0=v.centers[i][1] - v.radii[i],\n",
    "                x1= v.centers[i][0] + v.radii[i],\n",
    "                y1= v.centers[i][1] + v.radii[i],\n",
    "                fillcolor=L_color[i],\n",
    "                line_color=L_color[i],\n",
    "                opacity = 0.75\n",
    "            )\n",
    "        \n",
    "        L_shapes.append(shape)\n",
    "        \n",
    "        #create set label for current set\n",
    "        \n",
    "        anno_set_label = go.layout.Annotation(\n",
    "                xref=\"x\",\n",
    "                yref=\"y\",\n",
    "                x = v.set_labels[i].get_position()[0],\n",
    "                y = v.set_labels[i].get_position()[1],\n",
    "                text = v.set_labels[i].get_text(),\n",
    "                showarrow=False,\n",
    "                xanchor =L_xanchor[i],\n",
    "                yanchor ='middle'\n",
    "        )\n",
    "        \n",
    "        L_annotation.append(anno_set_label)\n",
    "        \n",
    "        #get min and max values of current set shape\n",
    "        L_x_max.append(v.centers[i][0] + v.radii[i])\n",
    "        L_x_min.append(v.centers[i][0] - v.radii[i])\n",
    "        L_y_max.append(v.centers[i][1] + v.radii[i])\n",
    "        L_y_min.append(v.centers[i][1] - v.radii[i])\n",
    "    \n",
    "    #determine number of subsets\n",
    "    n_subsets = sum([scipy.special.binom(n_sets,i+1) for i in range(0,n_sets)])\n",
    "    \n",
    "    for i in range(0,int(n_subsets)):\n",
    "        \n",
    "        #create subset label (number of common elements for current subset\n",
    "        \n",
    "        anno_subset_label = go.layout.Annotation(\n",
    "                xref=\"x\",\n",
    "                yref=\"y\",\n",
    "                x = v.subset_labels[i].get_position()[0],\n",
    "                y = v.subset_labels[i].get_position()[1],\n",
    "                text = v.subset_labels[i].get_text(),\n",
    "                showarrow=False\n",
    "        )\n",
    "        \n",
    "        L_annotation.append(anno_subset_label)\n",
    "        \n",
    "        \n",
    "    #define off_set for the figure range    \n",
    "    off_set = 0.2\n",
    "    \n",
    "    #get min and max for x and y dimension to set the figure range\n",
    "    x_max = max(L_x_max) + off_set\n",
    "    x_min = min(L_x_min) - off_set\n",
    "    y_max = max(L_y_max) + off_set\n",
    "    y_min = min(L_y_min) - off_set\n",
    "    \n",
    "    #create plotly figure\n",
    "    p_fig = go.Figure()\n",
    "    \n",
    "    #set xaxes range and hide ticks and ticklabels\n",
    "    p_fig.update_xaxes(\n",
    "        range=[x_min, x_max], \n",
    "        showticklabels=False, \n",
    "        ticklen=0\n",
    "    )\n",
    "    \n",
    "    #set yaxes range and hide ticks and ticklabels\n",
    "    p_fig.update_yaxes(\n",
    "        range=[y_min, y_max], \n",
    "        scaleanchor=\"x\", \n",
    "        scaleratio=1, \n",
    "        showticklabels=False, \n",
    "        ticklen=0\n",
    "    )\n",
    "    \n",
    "    #set figure properties and add shapes and annotations\n",
    "    p_fig.update_layout(\n",
    "        plot_bgcolor='white', \n",
    "        margin = dict(b = 0, l = 10, pad = 0, r = 10, t = 40),\n",
    "        width=800, \n",
    "        height=400,\n",
    "        shapes= L_shapes, \n",
    "        annotations = L_annotation,\n",
    "        title = dict(text = title, x=0.5, xanchor = 'center')\n",
    "    )\n",
    "\n",
    "    p_fig.show()"
   ]
  },
  {
   "cell_type": "markdown",
   "metadata": {},
   "source": [
    "# Venn Diagramm with 2 Sets"
   ]
  },
  {
   "cell_type": "code",
   "execution_count": 51,
   "metadata": {},
   "outputs": [
    {
     "data": {
      "text/html": [
       "<iframe\n",
       "    scrolling=\"no\"\n",
       "    width=\"820px\"\n",
       "    height=\"420\"\n",
       "    src=\"iframe_figures/figure_51.html\"\n",
       "    frameborder=\"0\"\n",
       "    allowfullscreen\n",
       "></iframe>\n"
      ]
     },
     "metadata": {},
     "output_type": "display_data"
    }
   ],
   "source": [
    "L_sets=[set(['A', 'B', 'C', 'D']), set(['D', 'E', 'F'])]\n",
    "L_labels=['set A', 'set B']\n",
    "venn_to_plotly(L_sets, L_labels, 'My Plotly Venn Diagramm with 2 Sets')"
   ]
  },
  {
   "cell_type": "markdown",
   "metadata": {},
   "source": [
    "# Venn Diagramm with 3 Sets"
   ]
  },
  {
   "cell_type": "code",
   "execution_count": 53,
   "metadata": {},
   "outputs": [
    {
     "data": {
      "text/html": [
       "<iframe\n",
       "    scrolling=\"no\"\n",
       "    width=\"820px\"\n",
       "    height=\"420\"\n",
       "    src=\"iframe_figures/figure_53.html\"\n",
       "    frameborder=\"0\"\n",
       "    allowfullscreen\n",
       "></iframe>\n"
      ]
     },
     "metadata": {},
     "output_type": "display_data"
    }
   ],
   "source": [
    "L_sets=[set(['A', 'B', 'C', 'D','F']), set(['D', 'E', 'F']), set(['B', 'C', 'D', 'E', 'H','I'])]\n",
    "L_labels=['set A', 'set B', 'set C']\n",
    "venn_to_plotly(L_sets,L_labels,'My Plotly Venn Diagramm with 3 Sets')"
   ]
  },
  {
   "cell_type": "code",
   "execution_count": null,
   "metadata": {},
   "outputs": [],
   "source": []
  }
 ],
 "metadata": {
  "kernelspec": {
   "display_name": "Python 3",
   "language": "python",
   "name": "python3"
  },
  "language_info": {
   "codemirror_mode": {
    "name": "ipython",
    "version": 3
   },
   "file_extension": ".py",
   "mimetype": "text/x-python",
   "name": "python",
   "nbconvert_exporter": "python",
   "pygments_lexer": "ipython3",
   "version": "3.7.3"
  }
 },
 "nbformat": 4,
 "nbformat_minor": 2
}
